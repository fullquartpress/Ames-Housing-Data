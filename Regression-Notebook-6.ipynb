{
 "cells": [
  {
   "cell_type": "code",
   "execution_count": 1,
   "metadata": {},
   "outputs": [
    {
     "data": {
      "text/plain": [
       "<matplotlib.axes._subplots.AxesSubplot at 0x7f4a875ce550>"
      ]
     },
     "execution_count": 1,
     "metadata": {},
     "output_type": "execute_result"
    }
   ],
   "source": [
    "import numpy as np\n",
    "import pandas as pd\n",
    "import seaborn as sns\n",
    "import matplotlib.pyplot as plt\n",
    "from sklearn.linear_model import LinearRegression\n",
    "import matplotlib.pyplot as plt\n",
    "from sklearn.linear_model import LinearRegression, Lasso, Ridge, ElasticNet, LassoCV, RidgeCV, ElasticNetCV\n",
    "from sklearn.preprocessing import StandardScaler\n",
    "from sklearn.model_selection import train_test_split\n",
    "from sklearn.model_selection import cross_val_score\n",
    "from sklearn.model_selection import train_test_split, GridSearchCV\n",
    "from sklearn.pipeline import Pipeline, FeatureUnion\n",
    "from sklearn.preprocessing import StandardScaler, PolynomialFeatures, FunctionTransformer, Imputer\n",
    "import warnings\n",
    "def ignore_warn(*args, **kwargs):\n",
    "    pass\n",
    "warnings.warn = ignore_warn #ignore annoying warning (from sklearn and seaborn)\n",
    "pd.set_option('display.float_format', lambda x: '%.3f' % x)\n",
    "#read in both\n",
    "ames_data = pd.read_csv(\"train.csv\") \n",
    "#test = pd.read_csv('test.csv')\n",
    "\n",
    "ames_data.columns = ames_data.columns.map(lambda x: str(x.replace(' ', '_')))\n",
    "\n",
    "missing_data = ames_data.isnull().sum()\n",
    "\n",
    "fig, ax = plt.subplots(figsize=(15,15))\n",
    "missing_data.plot(kind = 'bar')\n",
    "\n",
    "ames_data = ames_data.drop([\"Alley\",'Fireplace_Qu','Pool_QC','Fence', 'Misc_Feature'], axis = 1)\n",
    "\n",
    "missing_data = ames_data.isnull().sum()\n",
    "\n",
    "fig, ax = plt.subplots(figsize=(13,13))\n",
    "missing_data.plot(kind = 'bar')"
   ]
  },
  {
   "cell_type": "code",
   "execution_count": null,
   "metadata": {},
   "outputs": [],
   "source": [
    "ames_data = ames_data.dropna(axis = 0, how = 'any')"
   ]
  },
  {
   "cell_type": "code",
   "execution_count": 3,
   "metadata": {},
   "outputs": [],
   "source": [
    "def string_cleaning(df):\n",
    "    return df.replace({'Ex': 5, 'Gd': 4, 'TA': 3, 'Fa': 2, 'Po': 1,'Av': 3, 'Mn': 2, 'No': 1,\\\n",
    "                            'GLQ': 5, 'ALQ': 4, 'BLQ': 3, 'Rec': 4, 'LwQ': 2, 'Unf': 1, 'Typ': 5, 'Min1': 4,\\\n",
    "                            'Min2': 4, 'Mod': 3, 'Maj1': 2, 'Maj2': 2, 'Sal': 0,'Fin': 3, 'RFn': 2, 'Unf': 1,\\\n",
    "                            'AllPub': 1, 'Pave': 1, 'Grvl': 0, 'AllPub': 4, 'NoSewr':3, 'NoSeWa':2, \"ELO\":1 }, inplace = True)\n",
    "string_cleaning(ames_data)\n",
    "\n",
    "string_cleaning_tf = FunctionTransformer(string_cleaning, validate=False)\n",
    "ames_data.head()"
   ]
  },
  {
   "cell_type": "code",
   "execution_count": 6,
   "metadata": {},
   "outputs": [],
   "source": [
    "ames_data[\"Total_SF\"] = ames_data['Gr_Liv_Area'] + ames_data[\"Total_Bsmt_SF\"] + ames_data[\"Garage_Area\"] + ames_data['Wood_Deck_SF']\\\n",
    "    + ames_data[\"Open_Porch_SF\"] + ames_data['Enclosed_Porch'] + ames_data['3Ssn_Porch'] + ames_data['Screen_Porch']\\\n",
    "    + ames_data['Pool_Area']\n",
    "\n",
    "ames_data[\"Total_Bathrooms\"] = ames_data['Bsmt_Full_Bath'] + ames_data['Bsmt_Half_Bath'] + ames_data['Full_Bath'] + ames_data['Half_Bath']\n",
    "\n",
    "ames_data['Quality_Average_5'] = (ames_data['Exter_Qual'] + ames_data['Exter_Cond'] + ames_data['Bsmt_Qual'] + ames_data['Bsmt_Cond'] + ames_data['Bsmt_Exposure'] + ames_data['BsmtFin_Type_1'] + ames_data['BsmtFin_Type_2'] + ames_data['Heating_QC'] + ames_data['Kitchen_Qual'] + ames_data['Garage_Cond'] + ames_data['Garage_Qual']).mean()\n",
    "\n",
    "ames_data['Quality_Average_10'] = (ames_data[\"Overall_Qual\"] + ames_data['Overall_Cond']).mean()"
   ]
  },
  {
   "cell_type": "code",
   "execution_count": 7,
   "metadata": {},
   "outputs": [],
   "source": [
    "ames_data = pd.get_dummies(ames_data)"
   ]
  },
  {
   "cell_type": "code",
   "execution_count": 10,
   "metadata": {},
   "outputs": [
    {
     "data": {
      "text/plain": [
       "(1556, 218)"
      ]
     },
     "execution_count": 10,
     "metadata": {},
     "output_type": "execute_result"
    }
   ],
   "source": [
    "ames_data.head()\n",
    "ames_data.shape\n"
   ]
  },
  {
   "cell_type": "code",
   "execution_count": 11,
   "metadata": {},
   "outputs": [
    {
     "data": {
      "text/plain": [
       "SalePrice                 1.000\n",
       "Overall_Qual              0.807\n",
       "Total_SF                  0.803\n",
       "Exter_Qual                0.724\n",
       "Gr_Liv_Area               0.708\n",
       "Kitchen_Qual              0.700\n",
       "Bsmt_Qual                 0.693\n",
       "Garage_Cars               0.673\n",
       "Garage_Area               0.672\n",
       "1st_Flr_SF                0.641\n",
       "Total_Bsmt_SF             0.636\n",
       "Total_Bathrooms           0.612\n",
       "Year_Built                0.567\n",
       "Full_Bath                 0.561\n",
       "Garage_Yr_Blt             0.550\n",
       "TotRms_AbvGrd             0.547\n",
       "Year_Remod/Add            0.547\n",
       "Foundation_PConc          0.545\n",
       "Garage_Finish             0.544\n",
       "Mas_Vnr_Area              0.533\n",
       "Neighborhood_NridgHt      0.476\n",
       "Heating_QC                0.453\n",
       "Fireplaces                0.445\n",
       "Bsmt_Exposure             0.440\n",
       "BsmtFin_SF_1              0.405\n",
       "Lot_Area                  0.395\n",
       "Sale_Type_New             0.375\n",
       "Sale_Condition_Partial    0.372\n",
       "Lot_Frontage              0.350\n",
       "Exterior_1st_VinylSd      0.346\n",
       "                          ...  \n",
       "Sale_Type_COD            -0.129\n",
       "Neighborhood_BrkSide     -0.130\n",
       "Condition_1_Artery       -0.131\n",
       "Exterior_2nd_HdBoard     -0.138\n",
       "Exterior_1st_HdBoard     -0.150\n",
       "Exterior_2nd_MetalSd     -0.156\n",
       "Neighborhood_Edwards     -0.156\n",
       "Neighborhood_IDOTRR      -0.158\n",
       "Enclosed_Porch           -0.159\n",
       "Exterior_1st_MetalSd     -0.165\n",
       "Exterior_2nd_Wd Sdng     -0.166\n",
       "Overall_Cond             -0.170\n",
       "Sale_Condition_Normal    -0.172\n",
       "Electrical_FuseA         -0.187\n",
       "Exterior_1st_Wd Sdng     -0.191\n",
       "Neighborhood_NAmes       -0.210\n",
       "Paved_Drive_N            -0.211\n",
       "Neighborhood_OldTown     -0.213\n",
       "House_Style_1.5Fin       -0.214\n",
       "Central_Air_N            -0.217\n",
       "Foundation_BrkTil        -0.232\n",
       "Sale_Type_WD             -0.240\n",
       "PID                      -0.258\n",
       "Roof_Style_Gable         -0.269\n",
       "MS_Zoning_RM             -0.284\n",
       "Lot_Shape_Reg            -0.341\n",
       "Foundation_CBlock        -0.398\n",
       "Mas_Vnr_Type_None        -0.424\n",
       "Garage_Type_Detchd       -0.432\n",
       "Utilities                   nan\n",
       "Name: SalePrice, dtype: float64"
      ]
     },
     "execution_count": 11,
     "metadata": {},
     "output_type": "execute_result"
    }
   ],
   "source": [
    "ames_data.corr()['SalePrice'].sort_values(ascending = False)"
   ]
  },
  {
   "cell_type": "code",
   "execution_count": null,
   "metadata": {},
   "outputs": [],
   "source": []
  }
 ],
 "metadata": {
  "kernelspec": {
   "display_name": "Python 3",
   "language": "python",
   "name": "python3"
  },
  "language_info": {
   "codemirror_mode": {
    "name": "ipython",
    "version": 3
   },
   "file_extension": ".py",
   "mimetype": "text/x-python",
   "name": "python",
   "nbconvert_exporter": "python",
   "pygments_lexer": "ipython3",
   "version": "3.6.3"
  }
 },
 "nbformat": 4,
 "nbformat_minor": 2
}
